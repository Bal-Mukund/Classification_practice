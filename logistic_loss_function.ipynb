{
 "cells": [
  {
   "cell_type": "code",
   "execution_count": 1,
   "id": "67976446",
   "metadata": {},
   "outputs": [],
   "source": [
    "import numpy as np\n",
    "import matplotlib.pyplot as plt"
   ]
  },
  {
   "cell_type": "code",
   "execution_count": 2,
   "id": "544ab7a9",
   "metadata": {},
   "outputs": [],
   "source": [
    "X_train = np.array([[0.5, 1.5], [1,1], [1.5, 0.5], [3, 0.5], [2, 2], [1, 2.5]])  #(m,n)\n",
    "y_train = np.array([0, 0, 0, 1, 1, 1]) "
   ]
  },
  {
   "cell_type": "code",
   "execution_count": 3,
   "id": "b50de482",
   "metadata": {},
   "outputs": [],
   "source": [
    "index = y_train > 0\n",
    "malignant = X_train[index]\n",
    "\n",
    "index2 = y_train < 1\n",
    "benile = X_train[index2]"
   ]
  },
  {
   "cell_type": "code",
   "execution_count": 4,
   "id": "2048ea55",
   "metadata": {},
   "outputs": [],
   "source": [
    "def sigmoid(z):\n",
    "    g_zi = 1 / (1 + np.exp(-z))\n",
    "    return g_zi"
   ]
  },
  {
   "cell_type": "code",
   "execution_count": 5,
   "id": "c938d303",
   "metadata": {},
   "outputs": [],
   "source": [
    "def cost_function(x,y,w,b):\n",
    "    m,n= x.shape\n",
    "    total_loss = 0\n",
    "    for i in range(m):\n",
    "        z = np.dot(w, x[i]) + b\n",
    "        f_wb_i = sigmoid(z)\n",
    "        loss = y[i]*(np.log(f_wb_i)) + (1 - y[i])*np.log(1 - f_wb_i)\n",
    "        total_loss += loss\n",
    "    \n",
    "    total_loss = total_loss * (-1 / m)\n",
    "    \n",
    "    return total_loss"
   ]
  },
  {
   "cell_type": "code",
   "execution_count": 9,
   "id": "a633e6d1",
   "metadata": {},
   "outputs": [],
   "source": [
    "w_tmp = np.array([1,1])\n",
    "b_tmp = -3\n",
    "cost = cost_function(X_train, y_train, w_tmp, b_tmp)"
   ]
  },
  {
   "cell_type": "code",
   "execution_count": 7,
   "id": "ca3cbb1e",
   "metadata": {},
   "outputs": [
    {
     "data": {
      "text/plain": [
       "0.3668667864055174"
      ]
     },
     "execution_count": 7,
     "metadata": {},
     "output_type": "execute_result"
    }
   ],
   "source": [
    "cost"
   ]
  },
  {
   "cell_type": "code",
   "execution_count": 8,
   "id": "38d71a88",
   "metadata": {},
   "outputs": [
    {
     "name": "stdout",
     "output_type": "stream",
     "text": [
      "cost for b: -3 0.3668667864055174\n",
      "cost for b: -4 0.503680863674846\n"
     ]
    }
   ],
   "source": [
    "# let's compare another z with different value\n",
    "w1 = np.array([1,1])\n",
    "b1 = -3\n",
    "\n",
    "w2 = np.array([1,1])\n",
    "b2 = -4\n",
    "\n",
    "cost1 = cost_function(X_train, y_train, w1, b1)\n",
    "cost2 = cost_function(X_train, y_train, w2, b2)\n",
    "\n",
    "# print(f\"cost for b: -3 {cost1}\")\n",
    "# print(f\"cost for b: -4 {cost2}\")"
   ]
  },
  {
   "cell_type": "code",
   "execution_count": null,
   "id": "af8112a4",
   "metadata": {},
   "outputs": [],
   "source": []
  }
 ],
 "metadata": {
  "kernelspec": {
   "display_name": "Python 3 (ipykernel)",
   "language": "python",
   "name": "python3"
  },
  "language_info": {
   "codemirror_mode": {
    "name": "ipython",
    "version": 3
   },
   "file_extension": ".py",
   "mimetype": "text/x-python",
   "name": "python",
   "nbconvert_exporter": "python",
   "pygments_lexer": "ipython3",
   "version": "3.11.3"
  }
 },
 "nbformat": 4,
 "nbformat_minor": 5
}
