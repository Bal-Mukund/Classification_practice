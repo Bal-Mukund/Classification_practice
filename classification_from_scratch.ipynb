{
 "cells": [
  {
   "cell_type": "code",
   "execution_count": 2,
   "id": "24472753",
   "metadata": {},
   "outputs": [],
   "source": [
    "import numpy as np\n",
    "import import_ipynb\n",
    "from logistic_loss_function import sigmoid, cost_function\n",
    "from gradient_descent_classification import derivative, gradient_descent"
   ]
  },
  {
   "cell_type": "code",
   "execution_count": 3,
   "id": "1b0a7981",
   "metadata": {},
   "outputs": [],
   "source": [
    "X = np.array([[0.5, 1.5], [1,1], [1.5, 0.5], [3, 0.5], [2, 2], [1, 2.5]])\n",
    "y = np.array([0, 0, 0, 1, 1, 1])"
   ]
  },
  {
   "cell_type": "code",
   "execution_count": 6,
   "id": "d08743db",
   "metadata": {},
   "outputs": [],
   "source": [
    "w_tmp  = np.zeros_like(X[0])\n",
    "b_tem = 0.\n",
    "alph = 0.1\n",
    "iters = 10000\n",
    "\n",
    "w, b, j_hist = gradient_descent(X, y, w_tmp, b_tem, iters, alph)"
   ]
  },
  {
   "cell_type": "code",
   "execution_count": 9,
   "id": "c9f49117",
   "metadata": {},
   "outputs": [],
   "source": [
    "m,n = X.shape\n",
    "y_hat = []\n",
    "for i in range(m):\n",
    "    z = np.dot(w,X[i]) + b\n",
    "    y_hat.append(sigmoid(z))\n"
   ]
  },
  {
   "cell_type": "code",
   "execution_count": 10,
   "id": "bab56b02",
   "metadata": {},
   "outputs": [
    {
     "data": {
      "text/plain": [
       "[0.018622974196496927,\n",
       " 0.02057228580852861,\n",
       " 0.022720912637849727,\n",
       " 0.9846377246670863,\n",
       " 0.9984933558703578,\n",
       " 0.9771169636712489]"
      ]
     },
     "execution_count": 10,
     "metadata": {},
     "output_type": "execute_result"
    }
   ],
   "source": [
    "y_hat"
   ]
  },
  {
   "cell_type": "code",
   "execution_count": null,
   "id": "6020ec7a",
   "metadata": {},
   "outputs": [],
   "source": []
  }
 ],
 "metadata": {
  "kernelspec": {
   "display_name": "Python 3 (ipykernel)",
   "language": "python",
   "name": "python3"
  },
  "language_info": {
   "codemirror_mode": {
    "name": "ipython",
    "version": 3
   },
   "file_extension": ".py",
   "mimetype": "text/x-python",
   "name": "python",
   "nbconvert_exporter": "python",
   "pygments_lexer": "ipython3",
   "version": "3.11.3"
  }
 },
 "nbformat": 4,
 "nbformat_minor": 5
}
