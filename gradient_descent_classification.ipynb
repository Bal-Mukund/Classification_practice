{
 "cells": [
  {
   "cell_type": "code",
   "execution_count": 1,
   "id": "1b717890",
   "metadata": {},
   "outputs": [
    {
     "name": "stdout",
     "output_type": "stream",
     "text": [
      "importing Jupyter notebook from logistic_loss_function.ipynb\n"
     ]
    }
   ],
   "source": [
    "import numpy as np\n",
    "import import_ipynb\n",
    "from logistic_loss_function import sigmoid, cost_function\n",
    "import copy"
   ]
  },
  {
   "cell_type": "code",
   "execution_count": 2,
   "id": "355a19e0",
   "metadata": {},
   "outputs": [
    {
     "data": {
      "text/plain": [
       "(6, 2)"
      ]
     },
     "execution_count": 2,
     "metadata": {},
     "output_type": "execute_result"
    }
   ],
   "source": [
    "X_train = np.array([[0.5, 1.5], [1,1], [1.5, 0.5], [3, 0.5], [2, 2], [1, 2.5]])\n",
    "y_train = np.array([0, 0, 0, 1, 1, 1])\n",
    "\n",
    "X_train.shape"
   ]
  },
  {
   "cell_type": "code",
   "execution_count": 3,
   "id": "6125dc36",
   "metadata": {},
   "outputs": [],
   "source": [
    "def derivative(x,y,w,b):\n",
    "    m,n = x.shape\n",
    "    dj_dw = np.zeros((n))\n",
    "    dj_db = 0.\n",
    "    for i in range(m):\n",
    "        z_i = np.dot(w,x[i]) + b\n",
    "        y_hat = sigmoid(z_i)\n",
    "        \n",
    "        err = y_hat - y[i]\n",
    "        for j in range(n):\n",
    "            dj_dw[j] += err* x[i,j]\n",
    "        \n",
    "        dj_db += err\n",
    "    \n",
    "    dj_dw = dj_dw / m\n",
    "    dj_db = dj_db / m\n",
    "    \n",
    "    return dj_dw, dj_db"
   ]
  },
  {
   "cell_type": "code",
   "execution_count": 4,
   "id": "54cac7cf",
   "metadata": {
    "scrolled": true
   },
   "outputs": [
    {
     "name": "stdout",
     "output_type": "stream",
     "text": [
      "dj_dw : [0.49833339 0.49883943]\n",
      "dj_db : 0.49861806546328574\n"
     ]
    }
   ],
   "source": [
    "X_tmp = np.array([[0.5, 1.5], [1,1], [1.5, 0.5], [3, 0.5], [2, 2], [1, 2.5]])\n",
    "y_tmp = np.array([0, 0, 0, 1, 1, 1])\n",
    "w_tmp = np.array([2.,3.])\n",
    "b_tmp = 1.\n",
    "dj_dw, dj_db = derivative(X_train, y_train, w_tmp, b_tmp)\n",
    "print(f\"dj_dw : {dj_dw}\")\n",
    "print(f\"dj_db : {dj_db}\")"
   ]
  },
  {
   "cell_type": "code",
   "execution_count": 13,
   "id": "629ee907",
   "metadata": {},
   "outputs": [],
   "source": [
    "def gradient_descent(x,y,w_in,b_in, iteration, alpha):\n",
    "    \n",
    "    j_hist = []\n",
    "    w = copy.deepcopy(w_in)\n",
    "    b = b_in\n",
    "    for i in range(iteration):\n",
    "        d_dw, d_db  = derivative(x,y,w,b)\n",
    "        \n",
    "        j_hist.append(cost_function(x,y,w,b))\n",
    "        w = w - alpha * d_dw\n",
    "        b = b - alpha * d_db\n",
    "        \n",
    "    return w, b, j_hist"
   ]
  },
  {
   "cell_type": "code",
   "execution_count": 15,
   "id": "ff49f916",
   "metadata": {},
   "outputs": [
    {
     "data": {
      "text/plain": [
       "(array([5.28123029, 5.07815608]), -14.222409982019837)"
      ]
     },
     "execution_count": 15,
     "metadata": {},
     "output_type": "execute_result"
    }
   ],
   "source": [
    "w_tmp  = np.zeros_like(X_train[0])\n",
    "b_tmp  = 0.\n",
    "alph = 0.1\n",
    "iters = 10000\n",
    "\n",
    "w, b, j_hist = gradient_descent(X_train, y_train, w_tmp, b_tmp, iters, alph)\n",
    "w, b"
   ]
  },
  {
   "cell_type": "code",
   "execution_count": null,
   "id": "f0344f6a",
   "metadata": {},
   "outputs": [],
   "source": []
  }
 ],
 "metadata": {
  "kernelspec": {
   "display_name": "Python 3 (ipykernel)",
   "language": "python",
   "name": "python3"
  },
  "language_info": {
   "codemirror_mode": {
    "name": "ipython",
    "version": 3
   },
   "file_extension": ".py",
   "mimetype": "text/x-python",
   "name": "python",
   "nbconvert_exporter": "python",
   "pygments_lexer": "ipython3",
   "version": "3.11.3"
  }
 },
 "nbformat": 4,
 "nbformat_minor": 5
}
