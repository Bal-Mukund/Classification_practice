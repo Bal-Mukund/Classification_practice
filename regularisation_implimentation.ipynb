{
 "cells": [
  {
   "cell_type": "code",
   "execution_count": 58,
   "id": "a296f196",
   "metadata": {},
   "outputs": [],
   "source": [
    "import numpy as np\n",
    "import copy"
   ]
  },
  {
   "cell_type": "markdown",
   "id": "973c7a1e",
   "metadata": {},
   "source": [
    "### cost function for regularized linear regression"
   ]
  },
  {
   "cell_type": "code",
   "execution_count": 29,
   "id": "47f911b8",
   "metadata": {},
   "outputs": [],
   "source": [
    "def compute_cost_linr_reg(x,y,w,b,lambda_):\n",
    "    m = x.shape[0]\n",
    "    n = len(w)\n",
    "    cost = 0.\n",
    "    for i in range(m):\n",
    "        y_hat = np.dot(w,x[i]) + b\n",
    "        sq_err = (y_hat - y[i]) ** 2\n",
    "        cost += sq_err\n",
    "    \n",
    "    cost = 1 / (2*m)\n",
    "\n",
    "    reg_cost = 0\n",
    "    for j in range(n):\n",
    "        reg_cost += (lambda_ / 2*m) * (w[j]**2)\n",
    "        \n",
    "    total_cost = cost + reg_cost\n",
    "    return total_cost\n",
    "    "
   ]
  },
  {
   "cell_type": "code",
   "execution_count": 34,
   "id": "7d8cc159",
   "metadata": {},
   "outputs": [
    {
     "name": "stdout",
     "output_type": "stream",
     "text": [
      "Regularized cost: 0.8860358448847132\n"
     ]
    }
   ],
   "source": [
    "np.random.seed(1)\n",
    "X_tmp = np.random.rand(5,6)\n",
    "y_tmp = np.array([0,1,0,1,0])\n",
    "w_tmp = np.random.rand(X_tmp.shape[1]).reshape(-1,)-0.5\n",
    "b_tmp = 0.5\n",
    "lambda_tmp = 0.7\n",
    "cost_tmp = compute_cost_linr_reg(X_tmp, y_tmp, w_tmp, b_tmp, lambda_tmp)\n",
    "\n",
    "print(\"Regularized cost:\", cost_tmp)"
   ]
  },
  {
   "cell_type": "code",
   "execution_count": 31,
   "id": "67b29cdf",
   "metadata": {},
   "outputs": [
    {
     "data": {
      "text/plain": [
       "0.8860358448847132"
      ]
     },
     "execution_count": 31,
     "metadata": {},
     "output_type": "execute_result"
    }
   ],
   "source": [
    "compute_cost_linr_reg(X_tmp, y_tmp, w_tmp, b_tmp, lambda_tmp)"
   ]
  },
  {
   "cell_type": "markdown",
   "id": "720d4ad4",
   "metadata": {},
   "source": [
    "### cost function for regularized logistic regressoin"
   ]
  },
  {
   "cell_type": "code",
   "execution_count": 61,
   "id": "70bc0fa3",
   "metadata": {},
   "outputs": [],
   "source": [
    "def compute_cost_logst_reg(x,y,w,b, lambda_):\n",
    "    m = x.shape[0]\n",
    "    n = len(w)\n",
    "    cost = 0.\n",
    "    \n",
    "    for i in range(m):\n",
    "        z = np.dot(w,x[i]) + b\n",
    "        f_wb_i = 1 / (1 + np.exp(-z))\n",
    "        cost += (-y[i]*np.log(f_wb_i)) - (1 - y[i])* np.log(1 - f_wb_i)\n",
    "        \n",
    "    cost = cost / m\n",
    "    \n",
    "    reg_cost = 0\n",
    "    for j in range(n):\n",
    "        reg_cost += (lambda_ / (2*m)) * (w[j]**2)\n",
    "        \n",
    "    total_cost = cost + reg_cost\n",
    "    return total_cost"
   ]
  },
  {
   "cell_type": "code",
   "execution_count": 62,
   "id": "d9de4415",
   "metadata": {},
   "outputs": [
    {
     "data": {
      "text/plain": [
       "0.6850849138741673"
      ]
     },
     "execution_count": 62,
     "metadata": {},
     "output_type": "execute_result"
    }
   ],
   "source": [
    "np.random.seed(1)\n",
    "X_tmp = np.random.rand(5,6)\n",
    "y_tmp = np.array([0,1,0,1,0])\n",
    "w_tmp = np.random.rand(X_tmp.shape[1]).reshape(-1,)-0.5\n",
    "b_tmp = 0.5\n",
    "lambda_tmp = 0.7\n",
    "compute_cost_logst_reg(X_tmp, y_tmp, w_tmp, b_tmp, lambda_tmp)"
   ]
  },
  {
   "cell_type": "markdown",
   "id": "2561cf53",
   "metadata": {},
   "source": [
    "### gradient function for regularized linear regression"
   ]
  },
  {
   "cell_type": "code",
   "execution_count": 78,
   "id": "7d0b2209",
   "metadata": {},
   "outputs": [],
   "source": [
    "def compute_gradient_lin_reg(x,y,w,b,lambda_):\n",
    "    m,n = x.shape\n",
    "\n",
    "    dj_dw = np.zeros((n,)) \n",
    "    dj_db = 0.\n",
    "    \n",
    "    for i in range(m):\n",
    "        y_hat = np.dot(w,x[i]) + b\n",
    "        \n",
    "        for j in range(n):\n",
    "            err = y_hat - y[i]\n",
    "            dj_dw[j] += err * x[i,j]\n",
    "            \n",
    "        dj_db += y_hat - y[i]\n",
    "    \n",
    "    dj_dw = dj_dw / m\n",
    "    dj_db = dj_db / m\n",
    "    \n",
    "    # w is vector of length j (number of features) so we will add regularized term with their respective j\n",
    "    \n",
    "    for j in range(n):\n",
    "        reg_term = (lambda_ / m) * w[j]\n",
    "        dj_dw[j] += reg_term\n",
    "        \n",
    "    # we don't have to regularized b\n",
    "    return dj_dw, dj_db"
   ]
  },
  {
   "cell_type": "code",
   "execution_count": 83,
   "id": "be0fc1cf",
   "metadata": {},
   "outputs": [],
   "source": [
    "np.random.seed(1)\n",
    "X_tmp = np.random.rand(5,3)\n",
    "y_tmp = np.array([0,1,0,1,0])\n",
    "w_tmp = np.random.rand(X_tmp.shape[1])\n",
    "b_tmp = 0.5\n",
    "lambda_tmp = 0.7\n",
    "dj_dw_tmp, dj_db_tmp = compute_gradient_lin_reg(X_tmp,y_tmp,w_tmp,b_tmp,lambda_tmp)"
   ]
  },
  {
   "cell_type": "markdown",
   "id": "41c8fd9d",
   "metadata": {},
   "source": [
    "### gradient function for regularized logistic regression"
   ]
  },
  {
   "cell_type": "markdown",
   "id": "99cf5193",
   "metadata": {},
   "source": [
    "computing gradient for linear and logistic regression is nearly identical we just have to chage predicted y "
   ]
  },
  {
   "cell_type": "code",
   "execution_count": 106,
   "id": "39709365",
   "metadata": {},
   "outputs": [],
   "source": [
    "def compute_gradient_logst_reg(x,y,w,b,lambda_):\n",
    "    m,n = x.shape\n",
    "    \n",
    "    dj_dw = np.zeros((n,))\n",
    "    dj_db = 0.\n",
    "    \n",
    "    for i in range(m):\n",
    "        z = np.dot(w,x[i]) + b\n",
    "        g_z = 1 / (1 + (np.exp(-z)))\n",
    "        \n",
    "        for j in range(n):\n",
    "            err = (g_z - y[i]) * x[i,j]\n",
    "            dj_dw[j] += err\n",
    "        \n",
    "        dj_db += g_z - y[i]\n",
    "        \n",
    "    dj_dw = dj_dw / m\n",
    "    dj_db = dj_db / m\n",
    "    \n",
    "    # w is vector of length j (number of features) so we will add regularized term with their respective j\n",
    "    \n",
    "    reg_cost = 0\n",
    "    for j in range(n):\n",
    "        reg_term = (lambda_ / m) * w[j]\n",
    "        dj_dw[j] += reg_term\n",
    "    \n",
    "    return dj_dw, dj_db\n",
    "    "
   ]
  },
  {
   "cell_type": "code",
   "execution_count": 107,
   "id": "dc3b18ab",
   "metadata": {},
   "outputs": [
    {
     "data": {
      "text/plain": [
       "array([0.17380013, 0.32007508, 0.10776313])"
      ]
     },
     "execution_count": 107,
     "metadata": {},
     "output_type": "execute_result"
    }
   ],
   "source": [
    "np.random.seed(1)\n",
    "X_tmp = np.random.rand(5,3)\n",
    "y_tmp = np.array([0,1,0,1,0])\n",
    "w_tmp = np.random.rand(X_tmp.shape[1])\n",
    "b_tmp = 0.5\n",
    "lambda_tmp = 0.7\n",
    "dj_dw_tmp, dj_db_tmp =  compute_gradient_logst_reg(X_tmp, y_tmp, w_tmp, b_tmp, lambda_tmp)\n",
    "dj_dw_tmp"
   ]
  },
  {
   "cell_type": "markdown",
   "id": "a24ac6f2",
   "metadata": {},
   "source": [
    "### The basic algorithm for running gradient descent does not change with regularization"
   ]
  },
  {
   "cell_type": "code",
   "execution_count": null,
   "id": "9f320815",
   "metadata": {},
   "outputs": [],
   "source": [
    "repeat until convergence:\n",
    "    - {\n",
    "        𝑤𝑗 = 𝑤𝑗 − 𝛼 ∂𝐽(𝐰,𝑏)\n",
    "       𝑤𝑗𝑏 = 𝑏− 𝛼∂𝐽(𝐰,𝑏)∂𝑏\n",
    "    }\n",
    "    for j := 0..n-1(1)"
   ]
  }
 ],
 "metadata": {
  "kernelspec": {
   "display_name": "Python 3 (ipykernel)",
   "language": "python",
   "name": "python3"
  },
  "language_info": {
   "codemirror_mode": {
    "name": "ipython",
    "version": 3
   },
   "file_extension": ".py",
   "mimetype": "text/x-python",
   "name": "python",
   "nbconvert_exporter": "python",
   "pygments_lexer": "ipython3",
   "version": "3.11.4"
  }
 },
 "nbformat": 4,
 "nbformat_minor": 5
}
